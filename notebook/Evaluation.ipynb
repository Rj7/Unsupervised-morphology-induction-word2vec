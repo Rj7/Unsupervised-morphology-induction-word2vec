{
 "cells": [
  {
   "cell_type": "code",
   "execution_count": 2,
   "metadata": {},
   "outputs": [],
   "source": [
    "import nltk\n",
    "from collections import defaultdict, Counter\n",
    "import gensim, logging\n",
    "import nltk\n",
    "from gensim.models.keyedvectors import KeyedVectors\n",
    "from gensim.similarities.index import AnnoyIndexer\n",
    "from multiprocessing import Process, Pool\n",
    "import os\n",
    "import collections\n",
    "from random import shuffle\n",
    "from copy import deepcopy\n",
    "from collections import OrderedDict\n",
    "import pickle\n",
    "import networkx as nx\n",
    "import matplotlib.pyplot as plt\n",
    "from operator import itemgetter\n",
    "from scipy.stats import spearmanr\n",
    "import pandas as pd\n",
    "import numpy as np\n",
    "from gensim.models.wrappers import FastText"
   ]
  },
  {
   "cell_type": "markdown",
   "metadata": {},
   "source": [
    "#### Spearman Correlation for different word embeddings on Standford rare word dataset\n",
    "word2vec: (0.2516646845987402)\n",
    "\n",
    "glove6B 50dimensions (0.26159587465252532, 1782)\n",
    "\n",
    "glove 100dimensions (0.2136083090117197, 1782)\n",
    "\n",
    "glove 200dimensions (0.17667532980978479, 1782)\n",
    "\n",
    "glove 300dimensions (0.15571816294824803, 1782)\n",
    "\n",
    "glove 42B 300dimensions \n",
    "\n",
    "fasttext"
   ]
  },
  {
   "cell_type": "code",
   "execution_count": 4,
   "metadata": {},
   "outputs": [],
   "source": [
    "def get_spearman_corr(word_vectors):\n",
    "    rw = pd.read_csv('../dataset/rw/rw.txt', header=None,sep='\\t')\n",
    "    rare_word_pair = []\n",
    "    for index, row in rw.iterrows():\n",
    "        rare_word_pair.append((row[0], row[1]))\n",
    "    corr_list = []\n",
    "    for word1,word2 in rare_word_pair:\n",
    "        try:\n",
    "            cor, p = spearmanr(word_vectors.wv[word1], word_vectors.wv[word2])\n",
    "            corr_list.append(cor)\n",
    "        except:\n",
    "            pass\n",
    "    return np.mean(corr_list), len(corr_list)\n",
    "    # w2v 0.2516646845987402"
   ]
  },
  {
   "cell_type": "code",
   "execution_count": null,
   "metadata": {},
   "outputs": [],
   "source": [
    "%time fasttext =KeyedVectors.load_word2vec_format('/home/raja/models/glove300_42B.txt', binary=False)"
   ]
  },
  {
   "cell_type": "code",
   "execution_count": null,
   "metadata": {},
   "outputs": [],
   "source": [
    "get_spearman_corr(fasttext)"
   ]
  },
  {
   "cell_type": "code",
   "execution_count": null,
   "metadata": {},
   "outputs": [],
   "source": []
  }
 ],
 "metadata": {
  "kernelspec": {
   "display_name": "Python 3",
   "language": "python",
   "name": "python3"
  },
  "language_info": {
   "codemirror_mode": {
    "name": "ipython",
    "version": 3
   },
   "file_extension": ".py",
   "mimetype": "text/x-python",
   "name": "python",
   "nbconvert_exporter": "python",
   "pygments_lexer": "ipython3",
   "version": "3.6.3"
  }
 },
 "nbformat": 4,
 "nbformat_minor": 2
}
