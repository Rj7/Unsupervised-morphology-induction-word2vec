{
 "cells": [
  {
   "cell_type": "code",
   "execution_count": 1,
   "metadata": {},
   "outputs": [],
   "source": [
    "import nltk\n",
    "from collections import defaultdict, Counter\n",
    "import gensim, logging\n",
    "import nltk\n",
    "from gensim import matutils\n",
    "from gensim.models.keyedvectors import KeyedVectors\n",
    "from gensim.similarities.index import AnnoyIndexer\n",
    "from multiprocessing import Process, Pool\n",
    "import os\n",
    "import collections\n",
    "from random import shuffle\n",
    "from copy import deepcopy\n",
    "from collections import OrderedDict\n",
    "import pickle\n",
    "import networkx as nx\n",
    "import matplotlib.pyplot as plt\n",
    "from operator import itemgetter\n",
    "from scipy.stats import spearmanr\n",
    "import pandas as pd\n",
    "import numpy as np\n",
    "from gensim.models.wrappers import FastText\n",
    "import string\n",
    "from numpy import dot, zeros, dtype, float32 as REAL,\\\n",
    "    double, array, vstack, fromstring, sqrt, newaxis,\\\n",
    "    ndarray, sum as np_sum, prod, ascontiguousarray,\\\n",
    "    argmax"
   ]
  },
  {
   "cell_type": "markdown",
   "metadata": {},
   "source": [
    "#### Spearman Correlation for different word embeddings on Standford rare word dataset\n",
    "word2vec: (0.2516646845987402)\n",
    "\n",
    "glove6B 50dimensions (0.26159587465252532, 1782)\n",
    "\n",
    "glove 100dimensions (0.2136083090117197, 1782)\n",
    "\n",
    "glove 200dimensions (0.17667532980978479, 1782)\n",
    "\n",
    "glove 300dimensions (0.15571816294824803, 1782)\n",
    "\n",
    "glove 42B 300dimensions \n",
    "\n",
    "fasttext"
   ]
  },
  {
   "cell_type": "code",
   "execution_count": 2,
   "metadata": {},
   "outputs": [
    {
     "name": "stdout",
     "output_type": "stream",
     "text": [
      "CPU times: user 25.4 s, sys: 2.56 s, total: 27.9 s\n",
      "Wall time: 31 s\n"
     ]
    }
   ],
   "source": [
    "%time fasttext =KeyedVectors.load_word2vec_format('/home/raja/models/GoogleNews-vectors-negative300.bin', binary=True)"
   ]
  },
  {
   "cell_type": "code",
   "execution_count": 3,
   "metadata": {},
   "outputs": [],
   "source": [
    "graph_file = '../data/norm_graph_100000_15390'\n",
    "graph_handle = open(graph_file, \"rb\")\n",
    "G = pickle.load(graph_handle)\n",
    "graph_handle.close()"
   ]
  },
  {
   "cell_type": "code",
   "execution_count": 4,
   "metadata": {},
   "outputs": [
    {
     "data": {
      "text/plain": [
       "('dairies',\n",
       " 'dairy',\n",
       " ('currencies', 'currency'),\n",
       " {'cos': 0.541899710893631, 'morp_rule': ('suffix', 'ies', 'y'), 'rank': 2})"
      ]
     },
     "execution_count": 4,
     "metadata": {},
     "output_type": "execute_result"
    }
   ],
   "source": [
    "list(G.edges(keys=True, data=True))[38]"
   ]
  },
  {
   "cell_type": "code",
   "execution_count": 5,
   "metadata": {},
   "outputs": [],
   "source": [
    "morph_rules = {}\n",
    "for edge in G.edges(keys=True, data=True):\n",
    "    morph_rules[edge[3]['morp_rule']] = edge[2]"
   ]
  },
  {
   "cell_type": "code",
   "execution_count": 14,
   "metadata": {},
   "outputs": [],
   "source": [
    "def get_spearman_corr(word_vectors):\n",
    "    rw = pd.read_csv('../dataset/rw/rw.txt', header=None,sep='\\t')\n",
    "    rare_word_pair = []\n",
    "    for index, row in rw.iterrows():\n",
    "        rare_word_pair.append((row[0], row[1]))\n",
    "    corr_list = []\n",
    "    for word1,word2 in rare_word_pair:\n",
    "        try:\n",
    "            cor, p = spearmanr(word_vectors.wv[word1], word_vectors.wv[word2])\n",
    "            corr_list.append(cor)\n",
    "        except Exception as e:\n",
    "            if word1 in word_vectors.vocab:\n",
    "                match, word2_vec = get_oov_vector(word2)\n",
    "                if match:\n",
    "                    cor, p = spearmanr(word_vectors.wv[word1],word2_vec)\n",
    "                    corr_list.append(cor)\n",
    "            elif word2 in word_vectors.vocab:\n",
    "                match, word1_vec = get_oov_vector(word1)\n",
    "                if match:\n",
    "                    cor, p = spearmanr(word_vectors.wv[word2],word1_vec)\n",
    "                    print (cor)\n",
    "                    corr_list.append(cor)\n",
    "    return np.mean(corr_list), len(corr_list)\n",
    "    # w2v 0.2516646845987402"
   ]
  },
  {
   "cell_type": "code",
   "execution_count": 12,
   "metadata": {},
   "outputs": [],
   "source": [
    "def get_oov_vector(word):\n",
    "    new_word = (False, 0, ())\n",
    "    mean = []\n",
    "    for rule in morph_rules:\n",
    "        candidate_word = apply_rule(rule, word)\n",
    "        if candidate_word and candidate_word in fasttext.vocab:\n",
    "            if fasttext.vocab[candidate_word].count > new_word[1]:\n",
    "                new_word = (candidate_word, fasttext.vocab[candidate_word].count, morph_rules[rule])\n",
    "    if new_word[0]:\n",
    "#         print (word, new_word)\n",
    "        mean.append(fasttext[new_word[2][0]] * 1)\n",
    "        mean.append(fasttext[new_word[2][1]] * -1)\n",
    "        mean.append(fasttext[new_word[0]] * 1)\n",
    "        mean = matutils.unitvec(array(mean).mean(axis=0)).astype(REAL)\n",
    "        return True, mean\n",
    "    else:\n",
    "        return False, []\n",
    "#             print (\"new word\",new_word, word)"
   ]
  },
  {
   "cell_type": "code",
   "execution_count": 9,
   "metadata": {},
   "outputs": [],
   "source": [
    "def apply_rule(rule, word):\n",
    "    if rule[0] == 'suffix':\n",
    "        if word[::-1].startswith(rule[1][::-1]):\n",
    "            return word[::-1].replace(rule[1][::-1], rule[2][::-1], 1)[::-1]\n",
    "    else:\n",
    "        if word.startswith(rule[1]):\n",
    "            return word.replace(rule[1], rule[2], 1)\n",
    "    return False"
   ]
  },
  {
   "cell_type": "code",
   "execution_count": 15,
   "metadata": {},
   "outputs": [
    {
     "name": "stdout",
     "output_type": "stream",
     "text": [
      "0.145091547164\n",
      "0.0586183103054\n",
      "0.461028017136\n",
      "0.194759020851\n",
      "0.409499486385\n",
      "0.281615950301\n",
      "0.127427707669\n",
      "-0.0375941445307\n",
      "0.0426986479765\n",
      "0.0772181758592\n",
      "0.207170483829\n",
      "0.152037645073\n",
      "0.104718809883\n",
      "0.206542086088\n",
      "0.153295845285\n",
      "0.146953546801\n",
      "0.11964886023\n",
      "0.220636231242\n",
      "-0.0709737936544\n",
      "0.138300764825\n",
      "0.559380963295\n",
      "0.0269203824295\n",
      "0.16240955395\n",
      "0.120867485763\n",
      "0.0302293387003\n",
      "0.10571231203\n",
      "0.171614333647\n",
      "0.258678993413\n",
      "0.089690934829\n",
      "0.0224695617624\n",
      "0.0818646067835\n",
      "0.225973336788\n",
      "0.313721257011\n",
      "0.35424216562\n",
      "0.061266819314\n",
      "0.270940436853\n",
      "0.310300673635\n",
      "0.349981838582\n",
      "0.130946144073\n",
      "0.300886236995\n",
      "0.101310879881\n",
      "0.0637571878996\n",
      "0.378034913045\n",
      "0.418296547497\n",
      "0.149389662254\n",
      "0.219980321906\n",
      "0.231326358785\n",
      "0.0343664540263\n",
      "0.0647884059417\n",
      "0.132478792977\n",
      "0.184991025401\n",
      "0.149451946787\n",
      "0.101028939715\n",
      "0.0703118133558\n",
      "0.718936388932\n",
      "0.0837345444382\n",
      "0.0489405802248\n",
      "0.178048987267\n",
      "0.136317145582\n",
      "0.0992075771787\n",
      "0.0407372661947\n",
      "0.0167565405967\n",
      "0.114585811385\n",
      "0.109230275206\n",
      "0.132547823597\n",
      "0.476379352608\n",
      "0.106056966271\n",
      "0.177548769126\n",
      "0.0449998261087\n",
      "0.0991192175782\n",
      "0.0634491967978\n",
      "0.0186856468371\n",
      "-0.046969067666\n",
      "0.304525597148\n",
      "0.00773980512329\n",
      "0.402696452135\n",
      "0.115886900921\n",
      "0.248170471135\n",
      "0.590574746694\n",
      "-0.0310876499638\n",
      "0.213851000933\n",
      "0.137639228757\n",
      "0.202276436171\n",
      "0.0308107665458\n",
      "0.13487517556\n",
      "0.21487851795\n",
      "0.0730148430173\n",
      "0.257442192827\n",
      "0.0993832567993\n",
      "0.0886524649338\n",
      "0.426456458932\n",
      "0.271511279391\n",
      "0.3450979512\n",
      "0.0632883543812\n",
      "0.106065872136\n",
      "0.0261231136624\n",
      "0.00895481989366\n",
      "-0.0270867727411\n",
      "-0.0724443104674\n",
      "0.0787499266657\n",
      "0.0682496350219\n",
      "0.131786877759\n",
      "0.224295146353\n",
      "0.701030608248\n",
      "0.110308047631\n",
      "0.0989285828576\n",
      "0.163155732711\n",
      "0.0115232099786\n",
      "0.0139414623252\n",
      "0.241637054136\n",
      "0.222183011737\n",
      "0.243600810725\n",
      "0.0267985637092\n",
      "0.0313236122891\n",
      "0.0213667060639\n",
      "0.184080179115\n",
      "0.122169217654\n",
      "0.0317147190862\n",
      "0.100251904507\n",
      "0.144745491371\n",
      "0.270278465598\n",
      "0.131933228206\n",
      "0.250935071141\n",
      "0.0239562695275\n",
      "0.107531597447\n",
      "0.0969041564184\n",
      "0.132544689684\n",
      "0.0933633753297\n"
     ]
    },
    {
     "data": {
      "text/plain": [
       "(0.24562283855541628, 1988)"
      ]
     },
     "execution_count": 15,
     "metadata": {},
     "output_type": "execute_result"
    }
   ],
   "source": [
    "get_spearman_corr(fasttext)"
   ]
  },
  {
   "cell_type": "code",
   "execution_count": null,
   "metadata": {},
   "outputs": [],
   "source": []
  }
 ],
 "metadata": {
  "kernelspec": {
   "display_name": "Python 3",
   "language": "python",
   "name": "python3"
  },
  "language_info": {
   "codemirror_mode": {
    "name": "ipython",
    "version": 3
   },
   "file_extension": ".py",
   "mimetype": "text/x-python",
   "name": "python",
   "nbconvert_exporter": "python",
   "pygments_lexer": "ipython3",
   "version": "3.6.3"
  }
 },
 "nbformat": 4,
 "nbformat_minor": 2
}
