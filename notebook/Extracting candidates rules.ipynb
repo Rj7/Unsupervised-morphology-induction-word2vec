{
 "cells": [
  {
   "cell_type": "code",
   "execution_count": 216,
   "metadata": {},
   "outputs": [],
   "source": [
    "import nltk\n",
    "from collections import defaultdict, Counter\n",
    "import gensim, logging\n",
    "import nltk\n",
    "from gensim.models.keyedvectors import KeyedVectors\n",
    "from gensim.similarities.index import AnnoyIndexer\n",
    "from multiprocessing import Process, Pool\n",
    "import os\n",
    "import collections\n",
    "from random import shuffle\n",
    "from copy import deepcopy\n",
    "from collections import OrderedDict\n",
    "import pickle\n",
    "import networkx as nx\n",
    "import matplotlib.pyplot as plt\n",
    "from operator import itemgetter"
   ]
  },
  {
   "cell_type": "code",
   "execution_count": 2,
   "metadata": {},
   "outputs": [],
   "source": [
    "# nltk.corpus.gutenberg.fileids()\n",
    "# total_corpus = []\n",
    "# for file in nltk.corpus.gutenberg.fileids():\n",
    "#     with open((nltk.corpus.gutenberg.words(file).fileid.path), 'r') as f:\n",
    "#         for line in f.readlines():\n",
    "#             try:\n",
    "#                 total_corpus.append(line.split())\n",
    "#             except:\n",
    "#                 print (\"hi\")\n",
    "#                 print (line)\n",
    "\n",
    "# with open(emma.fileid.path) as f:\n",
    "#     for line in f.readlines():\n",
    "#         print (line)\n",
    "\n",
    "# emma = nltk.corpus.gutenberg.words('austen-emma.txt')\n",
    "# vocab = list(set(emma))\n",
    "# len(vocab)"
   ]
  },
  {
   "cell_type": "code",
   "execution_count": 3,
   "metadata": {},
   "outputs": [],
   "source": [
    "def extract_patterns_in_words(patterns,pattern_counter,word1,word2,max_len):\n",
    "    i = 1\n",
    "    while(word1[:i] == word2[:i]):\n",
    "        i = i + 1\n",
    "    if i != 1 and i > max(len(word1[i-1:]), len(word2[i-1:])) < max_len:\n",
    "        pattern_counter[(\"suffix\",word1[i-1:], word2[i-1:])] += 1\n",
    "        if (\"suffix\",word1[i-1:], word2[i-1:]) in patterns:\n",
    "            patterns[(\"suffix\",word1[i-1:], word2[i-1:])].append((word1, word2))\n",
    "        else:\n",
    "            patterns[(\"suffix\",word1[i-1:], word2[i-1:])] = [(word1, word2)]\n",
    "#         patterns[(\"suffix\",word1[i-1:], word2[i-1:], word1, word2)] += 1\n",
    "    i = 1\n",
    "    while(word1[-i:] == word2[-i:]):\n",
    "        i = i + 1\n",
    "    if i != 1 and max(len(word1[:-i+1]), len(word2[:-i+1])) < max_len:\n",
    "        pattern_counter[(\"prefix\",word1[:-i+1], word2[:-i+1])] += 1\n",
    "        if (\"prefix\",word1[:-i+1], word2[:-i+1]) in patterns:\n",
    "            patterns[(\"prefix\",word1[:-i+1], word2[:-i+1])].append((word1, word2))\n",
    "        else:\n",
    "            patterns[(\"prefix\",word1[:-i+1], word2[:-i+1])] = [(word1, word2)]\n",
    "#         patterns[(\"prefix\",word1[:-i+1], word2[:-i+1], word1, word2)] += 1\n",
    "    return patterns"
   ]
  },
  {
   "cell_type": "code",
   "execution_count": 4,
   "metadata": {},
   "outputs": [],
   "source": [
    "def build_pattern_dict(vocab,max_len = 6):\n",
    "    if os.path.exists('../data/patterns_'+ str(len(vocab))):\n",
    "        patterns_file_r = open('../data/patterns_'+ str(len(vocab)), 'rb')\n",
    "        pattern_counter_file_r = open('../data/patterns_counter_'+ str(len(vocab)), 'rb')\n",
    "        patterns = pickle.load(patterns_file_r)\n",
    "        pattern_counter = pickle.load(pattern_counter_file_r)\n",
    "    else:\n",
    "        patterns_file_w = open('../data/patterns_'+ str(len(vocab)),\"wb\" )\n",
    "        pattern_counter_file_w = open('../data/patterns_counter_'+ str(len(vocab)),\"wb\" )\n",
    "        patterns  = defaultdict(list)\n",
    "#         print (patterns)\n",
    "        pattern_counter = Counter()\n",
    "        for word in vocab:\n",
    "            for second_word in vocab:\n",
    "                if word != second_word:\n",
    "                    extract_patterns_in_words(patterns,pattern_counter,word,second_word,max_len)\n",
    "        pickle.dump(patterns, patterns_file_w)\n",
    "        patterns_file_w.close()\n",
    "        pickle.dump(pattern_counter, pattern_counter_file_w)\n",
    "        pattern_counter_file_w.close()\n",
    "    return patterns, pattern_counter"
   ]
  },
  {
   "cell_type": "code",
   "execution_count": 5,
   "metadata": {},
   "outputs": [],
   "source": [
    "def downsample_patterns():\n",
    "    #Downsample to include only top 1000\n",
    "    pattern_1000 = defaultdict(list)\n",
    "    for pattern,items in patterns.items():\n",
    "        shuffle(items)\n",
    "        pattern_1000[pattern] = items[:1000]\n",
    "    return pattern_1000"
   ]
  },
  {
   "cell_type": "code",
   "execution_count": 6,
   "metadata": {},
   "outputs": [],
   "source": [
    "def pair_wise_similarity(word_pair1, word_pair2,annoy_index=None, topn = 10,):\n",
    "    closest_n = word_vectors.most_similar(positive=[word_pair2[0], word_pair1[1]], negative=[word_pair1[0]], topn=topn)\n",
    "#     print (word_pair2[1])\n",
    "#     print (closest_n)\n",
    "    for word, cos_sim in closest_n:\n",
    "        if word == word_pair2[1]:\n",
    "            return True\n",
    "    return False\n",
    "\n",
    "def annoy_pair_wise_similarity(word_pair1, word_pair2,annoy_index, topn = 10):\n",
    "    closest_n = word_vectors.most_similar(positive=[word_pair2[0], word_pair1[1]], negative=[word_pair1[0]], topn=topn, indexer=annoy_index)\n",
    "#     print (word_pair2[1])\n",
    "#     print (closest_n)\n",
    "    for word, cos_sim in closest_n:\n",
    "        if word == word_pair2[1]:\n",
    "            return True\n",
    "    return False\n",
    "\n",
    "def get_similarity_rank(word_pair1, word_pair2, topn=500):\n",
    "    closest_n = word_vectors.most_similar(positive=[word_pair2[0], word_pair1[1]], negative=[word_pair1[0]], topn=topn)\n",
    "#     print (word_pair2[1])\n",
    "#     print (closest_n)\n",
    "    for n,(word, cos_sim) in enumerate(closest_n):\n",
    "        if word == word_pair2[1]:\n",
    "            return (n, cos_sim)\n",
    "    return (None, None)"
   ]
  },
  {
   "cell_type": "code",
   "execution_count": 7,
   "metadata": {},
   "outputs": [],
   "source": [
    "def index_vector(word_vectors, dimensions=300):\n",
    "    fname = '../data/annoy.index'\n",
    "    # Persist index to disk\n",
    "    if os.path.exists(fname):\n",
    "        annoy_index = AnnoyIndexer()\n",
    "        annoy_index.load(fname)\n",
    "        annoy_index.model = word_vectors\n",
    "    else:\n",
    "        annoy_index = AnnoyIndexer(word_vectors, dimensions)\n",
    "        annoy_index.save(fname)\n",
    "    return annoy_index"
   ]
  },
  {
   "cell_type": "code",
   "execution_count": 8,
   "metadata": {},
   "outputs": [],
   "source": [
    "def get_hit_rate(patterns, similarity_function):\n",
    "    if os.path.exists('../data/hitrate_'+ str(len(word_vectors.vocab))):\n",
    "        hit_rate_file_r = open('../data/hitrate_'+ str(len(word_vectors.vocab)), 'rb')\n",
    "        hit_rates_rules = pickle.load(hit_rate_file_r)\n",
    "        return hit_rates_rules\n",
    "    else:\n",
    "        hit_rate_file_w = open('../data/hitrate_'+ str(len(word_vectors.vocab)),\"wb\" )\n",
    "        hit_rates_rules = {}\n",
    "        for (pattern,support_set) in patterns.items():\n",
    "            hit_rates_word_pair = {}\n",
    "            for pair1 in support_set:\n",
    "                hit_count = 0\n",
    "                hit_pairs = set()\n",
    "                for pair2 in support_set:\n",
    "                    if pair1 != pair2 and similarity_function(pair1, pair2, 10):\n",
    "                        hit_count += 1\n",
    "                        hit_pairs.add(pair2)\n",
    "                if len(support_set) ==1:\n",
    "                    total = 1\n",
    "                else:\n",
    "                    total = len(support_set) - 1\n",
    "                if hit_count != 0:\n",
    "                    hit_rates_word_pair[pair1] =  hit_pairs\n",
    "            if len(support_set) != 1 and hit_rates_word_pair:\n",
    "                hit_rates_rules[pattern] = hit_rates_word_pair\n",
    "        pickle.dump(hit_rates_rules, hit_rate_file_w)\n",
    "        hit_rate_file_w.close()\n",
    "        return hit_rates_rules"
   ]
  },
  {
   "cell_type": "code",
   "execution_count": 9,
   "metadata": {},
   "outputs": [],
   "source": [
    "#pattern_counter.most_common()[:-20:-1]"
   ]
  },
  {
   "cell_type": "code",
   "execution_count": 10,
   "metadata": {},
   "outputs": [
    {
     "name": "stdout",
     "output_type": "stream",
     "text": [
      "CPU times: user 44 ms, sys: 0 ns, total: 44 ms\n",
      "Wall time: 50.5 ms\n"
     ]
    }
   ],
   "source": [
    "%time word_vectors = KeyedVectors.load_word2vec_format('/home/raja/models/GoogleNews-vectors-negative300.bin.gz', binary=True, limit=1000)"
   ]
  },
  {
   "cell_type": "code",
   "execution_count": 11,
   "metadata": {
    "scrolled": true
   },
   "outputs": [
    {
     "name": "stdout",
     "output_type": "stream",
     "text": [
      "CPU times: user 128 ms, sys: 8 ms, total: 136 ms\n",
      "Wall time: 142 ms\n"
     ]
    }
   ],
   "source": [
    "%time patterns, pattern_counter = build_pattern_dict(word_vectors.vocab.keys())"
   ]
  },
  {
   "cell_type": "code",
   "execution_count": 12,
   "metadata": {
    "scrolled": true
   },
   "outputs": [
    {
     "data": {
      "text/plain": [
       "[(('suffix', 's', ''), 69),\n",
       " (('suffix', '', 's'), 69),\n",
       " (('suffix', '', 'ed'), 16),\n",
       " (('suffix', 'ed', ''), 16),\n",
       " (('suffix', '', 'd'), 13),\n",
       " (('suffix', 'd', ''), 13),\n",
       " (('suffix', 'n', ''), 11),\n",
       " (('suffix', '', 'n'), 11),\n",
       " (('suffix', 'ing', ''), 10),\n",
       " (('suffix', '', 'ing'), 10),\n",
       " (('suffix', '', 'er'), 8),\n",
       " (('prefix', '#', ''), 8),\n",
       " (('suffix', 'ing', 'e'), 8),\n",
       " (('suffix', 'er', ''), 8),\n",
       " (('prefix', '', '#'), 8),\n",
       " (('suffix', 'e', 'ing'), 8),\n",
       " (('prefix', 't', 'T'), 7),\n",
       " (('prefix', 'T', 't'), 7),\n",
       " (('suffix', '', 't'), 7),\n",
       " (('suffix', 't', ''), 7)]"
      ]
     },
     "execution_count": 12,
     "metadata": {},
     "output_type": "execute_result"
    }
   ],
   "source": [
    "pattern_counter.most_common(20)"
   ]
  },
  {
   "cell_type": "code",
   "execution_count": 13,
   "metadata": {},
   "outputs": [
    {
     "name": "stdout",
     "output_type": "stream",
     "text": [
      "CPU times: user 128 ms, sys: 8 ms, total: 136 ms\n",
      "Wall time: 152 ms\n"
     ]
    }
   ],
   "source": [
    "%time sampled_patterns = downsample_patterns()"
   ]
  },
  {
   "cell_type": "code",
   "execution_count": 14,
   "metadata": {
    "scrolled": true
   },
   "outputs": [],
   "source": [
    "# word_vectors_annoy = deepcopy(word_vectors)\n",
    "# word_vectors.init_sims(replace=True)\n",
    "# %time annoy_index = index_vector(word_vectors=word_vectors, dimensions=300)\n",
    "# %time hit_rates = calculate_hit_rate(sampled_patterns, annoy_pair_wise_similarity, annoy_index)"
   ]
  },
  {
   "cell_type": "code",
   "execution_count": 15,
   "metadata": {},
   "outputs": [],
   "source": [
    "#pair_wise_similarity((\"asking\", \"banking\"), (\"ask\", \"bank\"))"
   ]
  },
  {
   "cell_type": "code",
   "execution_count": 16,
   "metadata": {},
   "outputs": [
    {
     "name": "stdout",
     "output_type": "stream",
     "text": [
      "CPU times: user 20 ms, sys: 0 ns, total: 20 ms\n",
      "Wall time: 15.2 ms\n"
     ]
    }
   ],
   "source": [
    "%time hit_rates = get_hit_rate(sampled_patterns, pair_wise_similarity)"
   ]
  },
  {
   "cell_type": "code",
   "execution_count": 17,
   "metadata": {},
   "outputs": [],
   "source": [
    "# def temp(pattern, transformations):\n",
    "# #     ll = [transformations[transformation] for transformation in transformations]\n",
    "# #     print (ll)\n",
    "# #     print (len(ll), len(transformations))\n",
    "#     print (transformations)\n",
    "#     prototypes = []\n",
    "#     support_set = set(sampled_patterns[pattern])\n",
    "# #     print (pattern)\n",
    "# #     print (support_set)\n",
    "#     while True:\n",
    "#         explains_by_count = sorted(transformations.items(), key=lambda kv: -len(kv[1]))\n",
    "#         print (explains_by_count)\n",
    "#         best = explains_by_count[0]\n",
    "#         if len(best[1]) >= 10: #The prototype explains more than 10 word pairs\n",
    "#             prototypes.append((best[0][0], len(best[1]) / float(len(support_set))))\n",
    "#         else:\n",
    "#             break\n",
    "#         del transformations[best[0]]\n",
    "#         #Remove all explained pairs from the support set\n",
    "#         support_set = support_set - best[1]\n",
    "#         for k, v in transformations.items():\n",
    "#             transformations[k] = transformations[k] - best[1]\n",
    "#         explains_by_count.pop(0)\n",
    "\n",
    "#         if not (len(support_set) >= 10 and len(explains_by_count) and explains_by_count[0] >= 10):\n",
    "#             break\n",
    "#     print (prototypes)"
   ]
  },
  {
   "cell_type": "code",
   "execution_count": 18,
   "metadata": {},
   "outputs": [],
   "source": [
    "#hit_rates"
   ]
  },
  {
   "cell_type": "code",
   "execution_count": 19,
   "metadata": {},
   "outputs": [],
   "source": [
    "cons = 4\n",
    "def update_morpho_rules(patterns):\n",
    "    global morphological_rules\n",
    "    for pattern in patterns:\n",
    "        transformations = patterns[pattern]\n",
    "#         ll = [transformations[transformation] for transformation in transformations]\n",
    "    #     print (ll)\n",
    "    #     print (len(ll), len(transformations))\n",
    "        support_set = set(sampled_patterns[pattern])\n",
    "        while(True):\n",
    "            transformations_by_count = sorted(transformations.items(), key=lambda kv: len(kv[1]), reverse=True)\n",
    "            best = transformations_by_count[0]\n",
    "    #         print (transformations_by_count)\n",
    "    #         print (transformations)\n",
    "            if len(best[1]) >= cons:\n",
    "                morphological_rules[best[0]] = (pattern, len(best[1]) / float(len(support_set)),  best[1])\n",
    "    #             directions.append(best)\n",
    "                del transformations[best[0]]\n",
    "            else:\n",
    "                break\n",
    "\n",
    "            #Remove all explained pairs from the support set\n",
    "            #TODO: Remove best[0] from support set and transformations\n",
    "            support_set = support_set - best[1]\n",
    "            for k, v in transformations.items():\n",
    "    #             print (\"*\"*50)\n",
    "    #             print (transformations[k])\n",
    "                transformations[k] = transformations[k] - best[1]\n",
    "    #             print (transformations[k])\n",
    "    #             print (\"__\"*50)\n",
    "\n",
    "            transformations_by_count.pop(0)\n",
    "            if not (len(support_set) >= cons and len(transformations_by_count) and len(transformations_by_count[0][1]) >= cons):\n",
    "                break\n",
    "    #     return directions\n",
    "    #         print (best_transformation,best_support)\n"
   ]
  },
  {
   "cell_type": "code",
   "execution_count": 20,
   "metadata": {},
   "outputs": [
    {
     "name": "stdout",
     "output_type": "stream",
     "text": [
      "CPU times: user 8 ms, sys: 0 ns, total: 8 ms\n",
      "Wall time: 6.41 ms\n"
     ]
    }
   ],
   "source": [
    "#%time patterns = calculate_hit_rate(sampled_patterns, pair_wise_similarity)\n",
    "morphological_rules = {}\n",
    "%time update_morpho_rules(hit_rates)"
   ]
  },
  {
   "cell_type": "code",
   "execution_count": 21,
   "metadata": {},
   "outputs": [
    {
     "name": "stdout",
     "output_type": "stream",
     "text": [
      "32\n"
     ]
    }
   ],
   "source": [
    "print (len(morphological_rules))"
   ]
  },
  {
   "cell_type": "code",
   "execution_count": 22,
   "metadata": {},
   "outputs": [
    {
     "data": {
      "text/plain": [
       "{('####', '###'): (('prefix', '#', ''),\n",
       "  0.875,\n",
       "  {('###', '##'),\n",
       "   ('###,###', '##,###'),\n",
       "   ('##,###', '#,###'),\n",
       "   ('##-#', '#-#'),\n",
       "   ('##.#', '#.#'),\n",
       "   ('##.##', '#.##'),\n",
       "   ('##:##', '#:##')}),\n",
       " ('#-#', '##-#'): (('prefix', '', '#'),\n",
       "  0.75,\n",
       "  {('##', '###'),\n",
       "   ('##,###', '###,###'),\n",
       "   ('#,###', '##,###'),\n",
       "   ('#.#', '##.#'),\n",
       "   ('#.##', '##.##'),\n",
       "   ('#:##', '##:##')}),\n",
       " ('According', 'according'): (('prefix', 'A', 'a'),\n",
       "  0.8333333333333334,\n",
       "  {('After', 'after'),\n",
       "   ('All', 'all'),\n",
       "   ('An', 'an'),\n",
       "   ('As', 'as'),\n",
       "   ('At', 'at')}),\n",
       " ('News', 'news'): (('prefix', 'N', 'n'),\n",
       "  0.8,\n",
       "  {('National', 'national'), ('New', 'new'), ('No', 'no'), ('Now', 'now')}),\n",
       " ('She', 'she'): (('prefix', 'S', 's'),\n",
       "  0.8,\n",
       "  {('School', 'school'), ('So', 'so'), ('Some', 'some'), ('State', 'state')}),\n",
       " ('This', 'this'): (('prefix', 'T', 't'),\n",
       "  0.8571428571428571,\n",
       "  {('That', 'that'),\n",
       "   ('The', 'the'),\n",
       "   ('There', 'there'),\n",
       "   ('These', 'these'),\n",
       "   ('They', 'they'),\n",
       "   ('Two', 'two')}),\n",
       " ('When', 'when'): (('prefix', 'W', 'w'),\n",
       "  0.8333333333333334,\n",
       "  {('We', 'we'),\n",
       "   ('What', 'what'),\n",
       "   ('While', 'while'),\n",
       "   ('With', 'with'),\n",
       "   ('World', 'world')}),\n",
       " ('according', 'According'): (('prefix', 'a', 'A'),\n",
       "  0.8333333333333334,\n",
       "  {('after', 'After'),\n",
       "   ('all', 'All'),\n",
       "   ('an', 'An'),\n",
       "   ('as', 'As'),\n",
       "   ('at', 'At')}),\n",
       " ('base', 'based'): (('suffix', '', 'd'),\n",
       "  0.8461538461538461,\n",
       "  {('charge', 'charged'),\n",
       "   ('close', 'closed'),\n",
       "   ('continue', 'continued'),\n",
       "   ('include', 'included'),\n",
       "   ('increase', 'increased'),\n",
       "   ('move', 'moved'),\n",
       "   ('name', 'named'),\n",
       "   ('provide', 'provided'),\n",
       "   ('receive', 'received'),\n",
       "   ('release', 'released'),\n",
       "   ('use', 'used')}),\n",
       " ('based', 'base'): (('suffix', 'd', ''),\n",
       "  0.8461538461538461,\n",
       "  {('charged', 'charge'),\n",
       "   ('closed', 'close'),\n",
       "   ('continued', 'continue'),\n",
       "   ('included', 'include'),\n",
       "   ('increased', 'increase'),\n",
       "   ('moved', 'move'),\n",
       "   ('named', 'name'),\n",
       "   ('provided', 'provide'),\n",
       "   ('received', 'receive'),\n",
       "   ('released', 'release'),\n",
       "   ('used', 'use')}),\n",
       " ('give', 'giving'): (('suffix', 'e', 'ing'),\n",
       "  0.875,\n",
       "  {('come', 'coming'),\n",
       "   ('have', 'having'),\n",
       "   ('include', 'including'),\n",
       "   ('live', 'living'),\n",
       "   ('make', 'making'),\n",
       "   ('take', 'taking'),\n",
       "   ('trade', 'trading')}),\n",
       " ('including', 'included'): (('suffix', 'ing', 'ed'),\n",
       "  0.8,\n",
       "  {('following', 'followed'),\n",
       "   ('playing', 'played'),\n",
       "   ('starting', 'started'),\n",
       "   ('working', 'worked')}),\n",
       " ('including', 'includes'): (('suffix', 'ing', 'es'),\n",
       "  0.8,\n",
       "  {('coming', 'comes'),\n",
       "   ('living', 'lives'),\n",
       "   ('making', 'makes'),\n",
       "   ('taking', 'takes')}),\n",
       " ('know', 'known'): (('suffix', '', 'n'),\n",
       "  0.45454545454545453,\n",
       "  {('A', 'An'),\n",
       "   ('America', 'American'),\n",
       "   ('give', 'given'),\n",
       "   ('see', 'seen'),\n",
       "   ('take', 'taken')}),\n",
       " ('leader', 'lead'): (('suffix', 'er', ''),\n",
       "  0.5,\n",
       "  {('higher', 'high'),\n",
       "   ('longer', 'long'),\n",
       "   ('lower', 'low'),\n",
       "   ('player', 'play')}),\n",
       " ('leading', 'lead'): (('suffix', 'ing', ''),\n",
       "  0.9,\n",
       "  {('building', 'build'),\n",
       "   ('looking', 'look'),\n",
       "   ('meeting', 'meet'),\n",
       "   ('opening', 'open'),\n",
       "   ('playing', 'play'),\n",
       "   ('saying', 'say'),\n",
       "   ('starting', 'start'),\n",
       "   ('trying', 'try'),\n",
       "   ('working', 'work')}),\n",
       " ('living', 'live'): (('suffix', 'ing', 'e'),\n",
       "  0.875,\n",
       "  {('coming', 'come'),\n",
       "   ('giving', 'give'),\n",
       "   ('having', 'have'),\n",
       "   ('including', 'include'),\n",
       "   ('making', 'make'),\n",
       "   ('taking', 'take'),\n",
       "   ('trading', 'trade')}),\n",
       " ('look', 'looking'): (('suffix', '', 'ing'),\n",
       "  0.9,\n",
       "  {('build', 'building'),\n",
       "   ('lead', 'leading'),\n",
       "   ('meet', 'meeting'),\n",
       "   ('open', 'opening'),\n",
       "   ('play', 'playing'),\n",
       "   ('say', 'saying'),\n",
       "   ('start', 'starting'),\n",
       "   ('try', 'trying'),\n",
       "   ('work', 'working')}),\n",
       " ('makes', 'making'): (('suffix', 'es', 'ing'),\n",
       "  0.8,\n",
       "  {('comes', 'coming'),\n",
       "   ('includes', 'including'),\n",
       "   ('lives', 'living'),\n",
       "   ('takes', 'taking')}),\n",
       " ('need', 'needs'): (('suffix', '', 's'),\n",
       "  0.927536231884058,\n",
       "  {('American', 'Americans'),\n",
       "   ('area', 'areas'),\n",
       "   ('call', 'calls'),\n",
       "   ('case', 'cases'),\n",
       "   ('change', 'changes'),\n",
       "   ('charge', 'charges'),\n",
       "   ('come', 'comes'),\n",
       "   ('comment', 'comments'),\n",
       "   ('cost', 'costs'),\n",
       "   ('day', 'days'),\n",
       "   ('effort', 'efforts'),\n",
       "   ('event', 'events'),\n",
       "   ('force', 'forces'),\n",
       "   ('game', 'games'),\n",
       "   ('goal', 'goals'),\n",
       "   ('group', 'groups'),\n",
       "   ('home', 'homes'),\n",
       "   ('hour', 'hours'),\n",
       "   ('include', 'includes'),\n",
       "   ('issue', 'issues'),\n",
       "   ('job', 'jobs'),\n",
       "   ('leader', 'leaders'),\n",
       "   ('level', 'levels'),\n",
       "   ('live', 'lives'),\n",
       "   ('make', 'makes'),\n",
       "   ('market', 'markets'),\n",
       "   ('member', 'members'),\n",
       "   ('month', 'months'),\n",
       "   ('offer', 'offers'),\n",
       "   ('officer', 'officers'),\n",
       "   ('official', 'officials'),\n",
       "   ('other', 'others'),\n",
       "   ('plan', 'plans'),\n",
       "   ('player', 'players'),\n",
       "   ('point', 'points'),\n",
       "   ('price', 'prices'),\n",
       "   ('problem', 'problems'),\n",
       "   ('product', 'products'),\n",
       "   ('program', 'programs'),\n",
       "   ('project', 'projects'),\n",
       "   ('provide', 'provides'),\n",
       "   ('question', 'questions'),\n",
       "   ('remain', 'remains'),\n",
       "   ('report', 'reports'),\n",
       "   ('result', 'results'),\n",
       "   ('run', 'runs'),\n",
       "   ('sale', 'sales'),\n",
       "   ('say', 'says'),\n",
       "   ('school', 'schools'),\n",
       "   ('service', 'services'),\n",
       "   ('share', 'shares'),\n",
       "   ('show', 'shows'),\n",
       "   ('state', 'states'),\n",
       "   ('student', 'students'),\n",
       "   ('system', 'systems'),\n",
       "   ('take', 'takes'),\n",
       "   ('talk', 'talks'),\n",
       "   ('team', 'teams'),\n",
       "   ('term', 'terms'),\n",
       "   ('thing', 'things'),\n",
       "   ('time', 'times'),\n",
       "   ('want', 'wants'),\n",
       "   ('week', 'weeks'),\n",
       "   ('year', 'years')}),\n",
       " ('needs', 'needed'): (('suffix', 's', 'ed'),\n",
       "  0.8,\n",
       "  {('calls', 'called'),\n",
       "   ('reports', 'reported'),\n",
       "   ('shows', 'showed'),\n",
       "   ('wants', 'wanted')}),\n",
       " ('no', 'No'): (('prefix', 'n', 'N'),\n",
       "  0.8,\n",
       "  {('national', 'National'),\n",
       "   ('new', 'New'),\n",
       "   ('news', 'News'),\n",
       "   ('now', 'Now')}),\n",
       " ('non', 'no'): (('suffix', 'n', ''),\n",
       "  0.5454545454545454,\n",
       "  {('American', 'America'),\n",
       "   ('An', 'A'),\n",
       "   ('given', 'give'),\n",
       "   ('known', 'know'),\n",
       "   ('seen', 'see'),\n",
       "   ('taken', 'take')}),\n",
       " ('play', 'player'): (('suffix', '', 'er'),\n",
       "  0.5,\n",
       "  {('high', 'higher'),\n",
       "   ('lead', 'leader'),\n",
       "   ('long', 'longer'),\n",
       "   ('low', 'lower')}),\n",
       " ('reported', 'reports'): (('suffix', 'ed', 's'),\n",
       "  0.8,\n",
       "  {('called', 'calls'),\n",
       "   ('needed', 'needs'),\n",
       "   ('showed', 'shows'),\n",
       "   ('wanted', 'wants')}),\n",
       " ('she', 'She'): (('prefix', 's', 'S'),\n",
       "  0.8,\n",
       "  {('school', 'School'), ('so', 'So'), ('some', 'Some'), ('state', 'State')}),\n",
       " ('signed', 'sign'): (('suffix', 'ed', ''),\n",
       "  0.875,\n",
       "  {('allowed', 'allow'),\n",
       "   ('called', 'call'),\n",
       "   ('ended', 'end'),\n",
       "   ('expected', 'expect'),\n",
       "   ('helped', 'help'),\n",
       "   ('needed', 'need'),\n",
       "   ('played', 'play'),\n",
       "   ('reached', 'reach'),\n",
       "   ('reported', 'report'),\n",
       "   ('showed', 'show'),\n",
       "   ('started', 'start'),\n",
       "   ('turned', 'turn'),\n",
       "   ('wanted', 'want'),\n",
       "   ('worked', 'work')}),\n",
       " ('systems', 'system'): (('suffix', 's', ''),\n",
       "  0.9420289855072463,\n",
       "  {('Americans', 'American'),\n",
       "   ('areas', 'area'),\n",
       "   ('calls', 'call'),\n",
       "   ('cases', 'case'),\n",
       "   ('changes', 'change'),\n",
       "   ('charges', 'charge'),\n",
       "   ('comes', 'come'),\n",
       "   ('comments', 'comment'),\n",
       "   ('costs', 'cost'),\n",
       "   ('days', 'day'),\n",
       "   ('efforts', 'effort'),\n",
       "   ('events', 'event'),\n",
       "   ('forces', 'force'),\n",
       "   ('games', 'game'),\n",
       "   ('goals', 'goal'),\n",
       "   ('groups', 'group'),\n",
       "   ('homes', 'home'),\n",
       "   ('hours', 'hour'),\n",
       "   ('includes', 'include'),\n",
       "   ('issues', 'issue'),\n",
       "   ('its', 'it'),\n",
       "   ('jobs', 'job'),\n",
       "   ('leaders', 'leader'),\n",
       "   ('levels', 'level'),\n",
       "   ('lives', 'live'),\n",
       "   ('makes', 'make'),\n",
       "   ('markets', 'market'),\n",
       "   ('members', 'member'),\n",
       "   ('months', 'month'),\n",
       "   ('needs', 'need'),\n",
       "   ('offers', 'offer'),\n",
       "   ('officers', 'officer'),\n",
       "   ('officials', 'official'),\n",
       "   ('others', 'other'),\n",
       "   ('plans', 'plan'),\n",
       "   ('players', 'player'),\n",
       "   ('points', 'point'),\n",
       "   ('prices', 'price'),\n",
       "   ('problems', 'problem'),\n",
       "   ('products', 'product'),\n",
       "   ('programs', 'program'),\n",
       "   ('projects', 'project'),\n",
       "   ('provides', 'provide'),\n",
       "   ('questions', 'question'),\n",
       "   ('remains', 'remain'),\n",
       "   ('reports', 'report'),\n",
       "   ('results', 'result'),\n",
       "   ('runs', 'run'),\n",
       "   ('sales', 'sale'),\n",
       "   ('says', 'say'),\n",
       "   ('schools', 'school'),\n",
       "   ('services', 'service'),\n",
       "   ('shares', 'share'),\n",
       "   ('shows', 'show'),\n",
       "   ('states', 'state'),\n",
       "   ('students', 'student'),\n",
       "   ('takes', 'take'),\n",
       "   ('talks', 'talk'),\n",
       "   ('teams', 'team'),\n",
       "   ('terms', 'term'),\n",
       "   ('things', 'thing'),\n",
       "   ('times', 'time'),\n",
       "   ('wants', 'want'),\n",
       "   ('weeks', 'week'),\n",
       "   ('years', 'year')}),\n",
       " ('the', 'The'): (('prefix', 't', 'T'),\n",
       "  0.8571428571428571,\n",
       "  {('that', 'That'),\n",
       "   ('there', 'There'),\n",
       "   ('these', 'These'),\n",
       "   ('they', 'They'),\n",
       "   ('this', 'This'),\n",
       "   ('two', 'Two')}),\n",
       " ('us', 'used'): (('suffix', '', 'ed'),\n",
       "  0.9375,\n",
       "  {('allow', 'allowed'),\n",
       "   ('call', 'called'),\n",
       "   ('end', 'ended'),\n",
       "   ('expect', 'expected'),\n",
       "   ('help', 'helped'),\n",
       "   ('need', 'needed'),\n",
       "   ('play', 'played'),\n",
       "   ('reach', 'reached'),\n",
       "   ('report', 'reported'),\n",
       "   ('show', 'showed'),\n",
       "   ('sign', 'signed'),\n",
       "   ('start', 'started'),\n",
       "   ('turn', 'turned'),\n",
       "   ('want', 'wanted'),\n",
       "   ('work', 'worked')}),\n",
       " ('with', 'With'): (('prefix', 'w', 'W'),\n",
       "  0.8333333333333334,\n",
       "  {('we', 'We'),\n",
       "   ('what', 'What'),\n",
       "   ('when', 'When'),\n",
       "   ('while', 'While'),\n",
       "   ('world', 'World')}),\n",
       " ('worked', 'working'): (('suffix', 'ed', 'ing'),\n",
       "  0.8,\n",
       "  {('followed', 'following'),\n",
       "   ('included', 'including'),\n",
       "   ('played', 'playing'),\n",
       "   ('started', 'starting')})}"
      ]
     },
     "execution_count": 22,
     "metadata": {},
     "output_type": "execute_result"
    }
   ],
   "source": [
    "morphological_rules"
   ]
  },
  {
   "cell_type": "code",
   "execution_count": 315,
   "metadata": {
    "scrolled": true
   },
   "outputs": [
    {
     "name": "stdout",
     "output_type": "stream",
     "text": [
      "('the', 'The') (('prefix', 't', 'T'), 0.8571428571428571, {('this', 'This'), ('they', 'They'), ('that', 'That'), ('there', 'There'), ('these', 'These'), ('two', 'Two')})\n",
      "**************************************************\n",
      "('#-#', '##-#') (('prefix', '', '#'), 0.75, {('##', '###'), ('##,###', '###,###'), ('#,###', '##,###'), ('#.#', '##.#'), ('#:##', '##:##'), ('#.##', '##.##')})\n",
      "**************************************************\n",
      "('This', 'this') (('prefix', 'T', 't'), 0.8571428571428571, {('There', 'there'), ('The', 'the'), ('They', 'they'), ('Two', 'two'), ('That', 'that'), ('These', 'these')})\n",
      "**************************************************\n",
      "('with', 'With') (('prefix', 'w', 'W'), 0.8333333333333334, {('what', 'What'), ('we', 'We'), ('world', 'World'), ('while', 'While'), ('when', 'When')})\n",
      "**************************************************\n",
      "('know', 'known') (('suffix', '', 'n'), 0.45454545454545453, {('America', 'American'), ('take', 'taken'), ('give', 'given'), ('A', 'An'), ('see', 'seen')})\n",
      "**************************************************\n",
      "('according', 'According') (('prefix', 'a', 'A'), 0.8333333333333334, {('at', 'At'), ('all', 'All'), ('as', 'As'), ('an', 'An'), ('after', 'After')})\n",
      "**************************************************\n",
      "('need', 'needs') (('suffix', '', 's'), 0.927536231884058, {('American', 'Americans'), ('issue', 'issues'), ('group', 'groups'), ('player', 'players'), ('point', 'points'), ('leader', 'leaders'), ('home', 'homes'), ('job', 'jobs'), ('price', 'prices'), ('goal', 'goals'), ('call', 'calls'), ('live', 'lives'), ('change', 'changes'), ('state', 'states'), ('report', 'reports'), ('project', 'projects'), ('school', 'schools'), ('other', 'others'), ('time', 'times'), ('force', 'forces'), ('make', 'makes'), ('offer', 'offers'), ('day', 'days'), ('system', 'systems'), ('share', 'shares'), ('game', 'games'), ('officer', 'officers'), ('member', 'members'), ('come', 'comes'), ('run', 'runs'), ('problem', 'problems'), ('case', 'cases'), ('sale', 'sales'), ('week', 'weeks'), ('event', 'events'), ('talk', 'talks'), ('market', 'markets'), ('question', 'questions'), ('cost', 'costs'), ('show', 'shows'), ('want', 'wants'), ('service', 'services'), ('charge', 'charges'), ('comment', 'comments'), ('team', 'teams'), ('student', 'students'), ('product', 'products'), ('term', 'terms'), ('result', 'results'), ('thing', 'things'), ('plan', 'plans'), ('hour', 'hours'), ('program', 'programs'), ('include', 'includes'), ('say', 'says'), ('area', 'areas'), ('official', 'officials'), ('year', 'years'), ('remain', 'remains'), ('take', 'takes'), ('provide', 'provides'), ('level', 'levels'), ('month', 'months'), ('effort', 'efforts')})\n",
      "**************************************************\n",
      "('give', 'giving') (('suffix', 'e', 'ing'), 0.875, {('take', 'taking'), ('include', 'including'), ('make', 'making'), ('live', 'living'), ('trade', 'trading'), ('come', 'coming'), ('have', 'having')})\n",
      "**************************************************\n",
      "('####', '###') (('prefix', '#', ''), 0.875, {('##.#', '#.#'), ('###', '##'), ('###,###', '##,###'), ('##-#', '#-#'), ('##.##', '#.##'), ('##:##', '#:##'), ('##,###', '#,###')})\n",
      "**************************************************\n",
      "('systems', 'system') (('suffix', 's', ''), 0.9420289855072463, {('areas', 'area'), ('things', 'thing'), ('days', 'day'), ('shows', 'show'), ('hours', 'hour'), ('homes', 'home'), ('changes', 'change'), ('charges', 'charge'), ('plans', 'plan'), ('services', 'service'), ('its', 'it'), ('levels', 'level'), ('comes', 'come'), ('costs', 'cost'), ('groups', 'group'), ('points', 'point'), ('states', 'state'), ('talks', 'talk'), ('remains', 'remain'), ('questions', 'question'), ('makes', 'make'), ('includes', 'include'), ('offers', 'offer'), ('times', 'time'), ('years', 'year'), ('projects', 'project'), ('games', 'game'), ('calls', 'call'), ('reports', 'report'), ('jobs', 'job'), ('goals', 'goal'), ('Americans', 'American'), ('officers', 'officer'), ('cases', 'case'), ('weeks', 'week'), ('players', 'player'), ('issues', 'issue'), ('schools', 'school'), ('provides', 'provide'), ('others', 'other'), ('results', 'result'), ('shares', 'share'), ('officials', 'official'), ('efforts', 'effort'), ('sales', 'sale'), ('comments', 'comment'), ('terms', 'term'), ('teams', 'team'), ('events', 'event'), ('wants', 'want'), ('products', 'product'), ('runs', 'run'), ('problems', 'problem'), ('forces', 'force'), ('prices', 'price'), ('students', 'student'), ('needs', 'need'), ('markets', 'market'), ('members', 'member'), ('lives', 'live'), ('months', 'month'), ('programs', 'program'), ('takes', 'take'), ('says', 'say'), ('leaders', 'leader')})\n",
      "**************************************************\n",
      "('When', 'when') (('prefix', 'W', 'w'), 0.8333333333333334, {('With', 'with'), ('We', 'we'), ('World', 'world'), ('While', 'while'), ('What', 'what')})\n",
      "**************************************************\n",
      "('no', 'No') (('prefix', 'n', 'N'), 0.8, {('news', 'News'), ('now', 'Now'), ('national', 'National'), ('new', 'New')})\n",
      "**************************************************\n",
      "('non', 'no') (('suffix', 'n', ''), 0.5454545454545454, {('known', 'know'), ('An', 'A'), ('seen', 'see'), ('given', 'give'), ('American', 'America'), ('taken', 'take')})\n",
      "**************************************************\n",
      "('she', 'She') (('prefix', 's', 'S'), 0.8, {('school', 'School'), ('some', 'Some'), ('so', 'So'), ('state', 'State')})\n",
      "**************************************************\n",
      "('play', 'player') (('suffix', '', 'er'), 0.5, {('high', 'higher'), ('lead', 'leader'), ('long', 'longer'), ('low', 'lower')})\n",
      "**************************************************\n",
      "('look', 'looking') (('suffix', '', 'ing'), 0.9, {('start', 'starting'), ('work', 'working'), ('meet', 'meeting'), ('build', 'building'), ('open', 'opening'), ('say', 'saying'), ('lead', 'leading'), ('try', 'trying'), ('play', 'playing')})\n",
      "**************************************************\n",
      "('us', 'used') (('suffix', '', 'ed'), 0.9375, {('end', 'ended'), ('show', 'showed'), ('expect', 'expected'), ('play', 'played'), ('want', 'wanted'), ('work', 'worked'), ('sign', 'signed'), ('report', 'reported'), ('allow', 'allowed'), ('call', 'called'), ('turn', 'turned'), ('need', 'needed'), ('reach', 'reached'), ('start', 'started'), ('help', 'helped')})\n",
      "**************************************************\n",
      "('living', 'live') (('suffix', 'ing', 'e'), 0.875, {('making', 'make'), ('coming', 'come'), ('including', 'include'), ('having', 'have'), ('trading', 'trade'), ('taking', 'take'), ('giving', 'give')})\n",
      "**************************************************\n",
      "('including', 'includes') (('suffix', 'ing', 'es'), 0.8, {('living', 'lives'), ('coming', 'comes'), ('taking', 'takes'), ('making', 'makes')})\n",
      "**************************************************\n",
      "('including', 'included') (('suffix', 'ing', 'ed'), 0.8, {('working', 'worked'), ('starting', 'started'), ('playing', 'played'), ('following', 'followed')})\n",
      "**************************************************\n",
      "('based', 'base') (('suffix', 'd', ''), 0.8461538461538461, {('included', 'include'), ('continued', 'continue'), ('named', 'name'), ('released', 'release'), ('moved', 'move'), ('received', 'receive'), ('used', 'use'), ('closed', 'close'), ('provided', 'provide'), ('increased', 'increase'), ('charged', 'charge')})\n",
      "**************************************************\n",
      "('base', 'based') (('suffix', '', 'd'), 0.8461538461538461, {('increase', 'increased'), ('charge', 'charged'), ('include', 'included'), ('name', 'named'), ('receive', 'received'), ('use', 'used'), ('move', 'moved'), ('provide', 'provided'), ('close', 'closed'), ('release', 'released'), ('continue', 'continued')})\n",
      "**************************************************\n",
      "('She', 'she') (('prefix', 'S', 's'), 0.8, {('State', 'state'), ('So', 'so'), ('Some', 'some'), ('School', 'school')})\n",
      "**************************************************\n",
      "('According', 'according') (('prefix', 'A', 'a'), 0.8333333333333334, {('At', 'at'), ('An', 'an'), ('After', 'after'), ('All', 'all'), ('As', 'as')})\n",
      "**************************************************\n",
      "('signed', 'sign') (('suffix', 'ed', ''), 0.875, {('helped', 'help'), ('allowed', 'allow'), ('showed', 'show'), ('turned', 'turn'), ('played', 'play'), ('called', 'call'), ('worked', 'work'), ('started', 'start'), ('ended', 'end'), ('needed', 'need'), ('expected', 'expect'), ('wanted', 'want'), ('reported', 'report'), ('reached', 'reach')})\n",
      "**************************************************\n",
      "('leader', 'lead') (('suffix', 'er', ''), 0.5, {('longer', 'long'), ('higher', 'high'), ('lower', 'low'), ('player', 'play')})\n",
      "**************************************************\n",
      "('reported', 'reports') (('suffix', 'ed', 's'), 0.8, {('needed', 'needs'), ('called', 'calls'), ('showed', 'shows'), ('wanted', 'wants')})\n",
      "**************************************************\n",
      "('leading', 'lead') (('suffix', 'ing', ''), 0.9, {('opening', 'open'), ('playing', 'play'), ('looking', 'look'), ('meeting', 'meet'), ('saying', 'say'), ('building', 'build'), ('working', 'work'), ('starting', 'start'), ('trying', 'try')})\n",
      "**************************************************\n",
      "('worked', 'working') (('suffix', 'ed', 'ing'), 0.8, {('included', 'including'), ('started', 'starting'), ('played', 'playing'), ('followed', 'following')})\n",
      "**************************************************\n",
      "('News', 'news') (('prefix', 'N', 'n'), 0.8, {('No', 'no'), ('New', 'new'), ('National', 'national'), ('Now', 'now')})\n",
      "**************************************************\n",
      "('needs', 'needed') (('suffix', 's', 'ed'), 0.8, {('wants', 'wanted'), ('shows', 'showed'), ('calls', 'called'), ('reports', 'reported')})\n",
      "**************************************************\n",
      "('makes', 'making') (('suffix', 'es', 'ing'), 0.8, {('comes', 'coming'), ('includes', 'including'), ('takes', 'taking'), ('lives', 'living')})\n",
      "**************************************************\n"
     ]
    }
   ],
   "source": [
    "for item in morphological_rules:\n",
    "    print (item, morphological_rules[item])\n",
    "    print (\"*\" * 50)"
   ]
  },
  {
   "cell_type": "code",
   "execution_count": 24,
   "metadata": {},
   "outputs": [
    {
     "name": "stdout",
     "output_type": "stream",
     "text": [
      "('the', 'The')\n"
     ]
    }
   ],
   "source": [
    "for rule in morphological_rules:\n",
    "    print (rule)\n",
    "    break"
   ]
  },
  {
   "cell_type": "code",
   "execution_count": 25,
   "metadata": {},
   "outputs": [],
   "source": [
    "# if os.path.exists('../data/rules_'+ str(len(word_vectors.vocab))):\n",
    "#     rule_file_r = open('../data/rules_'+ str(len(word_vectors.vocab)), 'rb')\n",
    "#     morphological_rules = pickle.load(rule_file_r)\n",
    "# else:\n",
    "#     hit_rates = calculate_hit_rate(sampled_patterns, pair_wise_similarity)\n",
    "#     hit_rate_file_w = open('../data/rules_'+ str(len(word_vectors.vocab)),\"wb\" )\n",
    "#     pickle.dump(hit_rates, hit_rate_file_w)\n",
    "#     hit_rate_file_w.close()\n",
    "# # %time hit_rates = calculate_hit_rate(sampled_patterns, pair_wise_similarity)"
   ]
  },
  {
   "cell_type": "code",
   "execution_count": 307,
   "metadata": {},
   "outputs": [],
   "source": [
    "G = nx.MultiDiGraph()"
   ]
  },
  {
   "cell_type": "code",
   "execution_count": 308,
   "metadata": {},
   "outputs": [
    {
     "name": "stdout",
     "output_type": "stream",
     "text": [
      "CPU times: user 4 ms, sys: 4 ms, total: 8 ms\n",
      "Wall time: 5.56 ms\n"
     ]
    }
   ],
   "source": [
    "%time G.add_nodes_from(word_vectors.vocab.keys())"
   ]
  },
  {
   "cell_type": "code",
   "execution_count": 309,
   "metadata": {
    "scrolled": true
   },
   "outputs": [],
   "source": [
    "for dw,support in morphological_rules.items():\n",
    "    morp_rule, hit_rate,support_set = support\n",
    "    (word1, word2) = dw\n",
    "    for (word3, word4) in support_set:\n",
    "        (rank,cos_sim) = get_similarity_rank((word1,word2),(word3,word4))\n",
    "        if rank < 3 and cos_sim > 0.5:\n",
    "            G.add_edge(word3,word4,dw=dw,cos=0.35,rank=1)\n",
    "            if not G.has_edge(word3,word4,key=dw):\n",
    "                G.add_edge(word3,word4,key=dw,cos=cos_sim,rank=rank)\n",
    "        else:\n",
    "#             print (rank,cos_sim, word3, word2, dw)\n",
    "            pass\n",
    "\n",
    "#         G.add_edge(word1, word2 )"
   ]
  },
  {
   "cell_type": "code",
   "execution_count": 310,
   "metadata": {},
   "outputs": [
    {
     "name": "stdout",
     "output_type": "stream",
     "text": [
      "makes\n",
      "{0: {'dw': ('need', 'needs'), 'cos': 0.35, 'rank': 1}, ('need', 'needs'): {'cos': 0.5872986912727356, 'rank': 1}}\n",
      "making\n",
      "{0: {'dw': ('give', 'giving'), 'cos': 0.35, 'rank': 1}, ('give', 'giving'): {'cos': 0.9000281095504761, 'rank': 0}}\n",
      "[('make', 'makes', {'dw': ('need', 'needs'), 'cos': 0.35, 'rank': 1}), ('make', 'makes', {'cos': 0.5872986912727356, 'rank': 1}), ('make', 'making', {'dw': ('give', 'giving'), 'cos': 0.35, 'rank': 1}), ('make', 'making', {'cos': 0.9000281095504761, 'rank': 0})]\n",
      "[('make', 'makes', 0), ('make', 'makes', ('need', 'needs')), ('make', 'making', 0), ('make', 'making', ('give', 'giving'))]\n"
     ]
    }
   ],
   "source": [
    "for item in G['make']:\n",
    "    print (item)\n",
    "    d = G['make'][item]\n",
    "    print(d)\n",
    "print (G.out_edges('make',data=True))\n",
    "print (G.out_edges('make',keys=True))"
   ]
  },
  {
   "cell_type": "code",
   "execution_count": 311,
   "metadata": {},
   "outputs": [
    {
     "name": "stdout",
     "output_type": "stream",
     "text": [
      "348\n",
      "1000\n"
     ]
    }
   ],
   "source": [
    "print (len(G.edges))\n",
    "print (len(G.nodes))"
   ]
  },
  {
   "cell_type": "code",
   "execution_count": 312,
   "metadata": {},
   "outputs": [],
   "source": [
    "# for item in G.nodes:\n",
    "#     if G.out_degree(item) > 1:\n",
    "#         print (item, G.out_degree(item))"
   ]
  },
  {
   "cell_type": "code",
   "execution_count": 313,
   "metadata": {},
   "outputs": [],
   "source": [
    "for node in list(G.nodes):\n",
    "    for neighbor in list(G.neighbors(node)):\n",
    "        if word_vectors.vocab[node].count > word_vectors.vocab[neighbor].count:\n",
    "            if G.has_edge(node, neighbor):\n",
    "                G.remove_edges_from(set(G.in_edges(neighbor,keys=True)) and set(G.out_edges(node,keys=True)))\n",
    "            if G.number_of_edges(neighbor, node) > 1:\n",
    "#                 print (list(G.in_edges(node,keys=True)))\n",
    "                n_list = [(G[neighbor][node][item]['rank'], G[neighbor][node][item]['cos'], item) for item in (G[neighbor][node].keys())]\n",
    "                min_rank_edge = min(n_list,key=itemgetter(0))\n",
    "                max_cos_edge = max(n_list,key=itemgetter(1))\n",
    "#                 print (list(G.in_edges(node,keys=True)))\n",
    "                remove_edges = [x for x in list(G.in_edges(node,keys=True)) if x != (neighbor,node,min_rank_edge[2])]\n",
    "#                 print (remove_edges)\n",
    "                G.remove_edges_from(remove_edges)\n",
    "                if G.number_of_edges(neighbor, node) > 1:\n",
    "                    remove_edges = [x for x in list(G.in_edges(node,keys=True)) if x != (neighbor,node,max_cos_edge[2])]\n",
    "                    G.remove_edges_from(remove_edges)\n",
    "                    print (list(G.in_edges(node,keys=True)))\n",
    "        else:\n",
    "            if G.has_edge(neighbor, node):\n",
    "                G.remove_edges_from(set(G.in_edges(node,keys=True)) and set(G.out_edges(neighbor,keys=True)))\n",
    "            if G.number_of_edges(node, neighbor) > 1:\n",
    "                n_list = [(G[node][neighbor][item]['rank'], G[node][neighbor][item]['cos'], item) for item in (G[node][neighbor].keys())]\n",
    "                min_rank_edge = min(n_list,key=itemgetter(0))\n",
    "                max_cos_edge = max(n_list,key=itemgetter(1))\n",
    "                remove_edges = [x for x in list(G.in_edges(neighbor,keys=True)) if x != (node,neighbor,min_rank_edge[2])]\n",
    "                G.remove_edges_from(remove_edges)\n",
    "                if G.number_of_edges(node, neighbor) > 1:\n",
    "                    remove_edges = [x for x in list(G.in_edges(neighbor,keys=True)) if x != (node,neighbor,max_cos_edge[2])]\n",
    "                    G.remove_edges_from(remove_edges)"
   ]
  },
  {
   "cell_type": "code",
   "execution_count": 314,
   "metadata": {},
   "outputs": [
    {
     "name": "stdout",
     "output_type": "stream",
     "text": [
      "76\n",
      "1000\n"
     ]
    }
   ],
   "source": [
    "print (len(G.edges))\n",
    "print (len(G.nodes))"
   ]
  },
  {
   "cell_type": "code",
   "execution_count": null,
   "metadata": {},
   "outputs": [],
   "source": []
  }
 ],
 "metadata": {
  "kernelspec": {
   "display_name": "Python 3",
   "language": "python",
   "name": "python3"
  },
  "language_info": {
   "codemirror_mode": {
    "name": "ipython",
    "version": 3
   },
   "file_extension": ".py",
   "mimetype": "text/x-python",
   "name": "python",
   "nbconvert_exporter": "python",
   "pygments_lexer": "ipython3",
   "version": "3.6.3"
  }
 },
 "nbformat": 4,
 "nbformat_minor": 1
}
