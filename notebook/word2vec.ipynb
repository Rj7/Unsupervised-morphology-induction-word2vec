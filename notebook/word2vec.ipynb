{
 "cells": [
  {
   "cell_type": "code",
   "execution_count": 2,
   "metadata": {},
   "outputs": [],
   "source": [
    "import gensim, logging\n",
    "import nltk\n",
    "from collections import defaultdict\n",
    "from gensim.models.keyedvectors import KeyedVectors"
   ]
  },
  {
   "cell_type": "code",
   "execution_count": 6,
   "metadata": {},
   "outputs": [],
   "source": [
    "logging.basicConfig(format='%(asctime)s : %(levelname)s : %(message)s', level=logging.INFO)"
   ]
  },
  {
   "cell_type": "code",
   "execution_count": 9,
   "metadata": {
    "scrolled": true
   },
   "outputs": [
    {
     "name": "stdout",
     "output_type": "stream",
     "text": [
      "[nltk_data] Downloading package gutenberg to /home/raja/nltk_data...\n",
      "[nltk_data]   Unzipping corpora/gutenberg.zip.\n"
     ]
    },
    {
     "data": {
      "text/plain": [
       "True"
      ]
     },
     "execution_count": 9,
     "metadata": {},
     "output_type": "execute_result"
    }
   ],
   "source": [
    "nltk.download(\"gutenberg\")"
   ]
  },
  {
   "cell_type": "code",
   "execution_count": 10,
   "metadata": {},
   "outputs": [],
   "source": [
    "emma = nltk.corpus.gutenberg.words('austen-emma.txt')"
   ]
  },
  {
   "cell_type": "code",
   "execution_count": 11,
   "metadata": {},
   "outputs": [],
   "source": [
    "class InputFile():\n",
    "    def __init__(self, file_name):\n",
    "        self.name = file_name\n",
    "    def __iter__(self):\n",
    "        for line in open(self.name):\n",
    "            yield line.split()\n",
    "        "
   ]
  },
  {
   "cell_type": "code",
   "execution_count": 12,
   "metadata": {},
   "outputs": [],
   "source": [
    "t = InputFile(emma.fileid.path)"
   ]
  },
  {
   "cell_type": "code",
   "execution_count": 31,
   "metadata": {},
   "outputs": [
    {
     "name": "stderr",
     "output_type": "stream",
     "text": [
      "2017-11-13 03:23:09,953 : INFO : collecting all words and their counts\n",
      "2017-11-13 03:23:09,955 : INFO : PROGRESS: at sentence #0, processed 0 words, keeping 0 word types\n",
      "2017-11-13 03:23:09,982 : INFO : PROGRESS: at sentence #10000, processed 93960 words, keeping 12185 word types\n",
      "2017-11-13 03:23:10,002 : INFO : collected 17409 word types from a corpus of 158167 raw words and 16823 sentences\n",
      "2017-11-13 03:23:10,003 : INFO : Loading a fresh vocabulary\n",
      "2017-11-13 03:23:10,015 : INFO : min_count=5 retains 2826 unique words (16% of original 17409, drops 14583)\n",
      "2017-11-13 03:23:10,016 : INFO : min_count=5 leaves 137151 word corpus (86% of original 158167, drops 21016)\n",
      "2017-11-13 03:23:10,023 : INFO : deleting the raw counts dictionary of 17409 items\n",
      "2017-11-13 03:23:10,025 : INFO : sample=0.001 downsamples 62 most-common words\n",
      "2017-11-13 03:23:10,026 : INFO : downsampling leaves estimated 95953 word corpus (70.0% of prior 137151)\n",
      "2017-11-13 03:23:10,026 : INFO : estimated required memory for 2826 words and 100 dimensions: 3673800 bytes\n",
      "2017-11-13 03:23:10,033 : INFO : resetting layer weights\n",
      "2017-11-13 03:23:10,060 : INFO : training model with 3 workers on 2826 vocabulary and 100 features, using sg=0 hs=0 sample=0.001 negative=5 window=5\n",
      "2017-11-13 03:23:10,603 : INFO : worker thread finished; awaiting finish of 2 more threads\n",
      "2017-11-13 03:23:10,606 : INFO : worker thread finished; awaiting finish of 1 more threads\n",
      "2017-11-13 03:23:10,610 : INFO : worker thread finished; awaiting finish of 0 more threads\n",
      "2017-11-13 03:23:10,611 : INFO : training on 790835 raw words (480025 effective words) took 0.5s, 876029 effective words/s\n"
     ]
    }
   ],
   "source": [
    "model = gensim.models.Word2Vec(t)"
   ]
  },
  {
   "cell_type": "code",
   "execution_count": 32,
   "metadata": {},
   "outputs": [
    {
     "name": "stderr",
     "output_type": "stream",
     "text": [
      "2017-11-13 03:23:16,736 : INFO : precomputing L2-norms of word weight vectors\n"
     ]
    },
    {
     "data": {
      "text/plain": [
       "[('and,', 0.9997357726097107),\n",
       " ('both', 0.9997268915176392),\n",
       " ('off', 0.999707818031311),\n",
       " ('talk', 0.9997074604034424),\n",
       " ('right', 0.999697744846344),\n",
       " ('something', 0.9996915459632874),\n",
       " ('them.', 0.9996885657310486),\n",
       " ('put', 0.9996863603591919),\n",
       " ('still', 0.99968421459198),\n",
       " ('till', 0.9996820092201233)]"
      ]
     },
     "execution_count": 32,
     "metadata": {},
     "output_type": "execute_result"
    }
   ],
   "source": [
    "model.most_similar('love')"
   ]
  },
  {
   "cell_type": "code",
   "execution_count": 14,
   "metadata": {},
   "outputs": [
    {
     "name": "stderr",
     "output_type": "stream",
     "text": [
      "2017-11-13 02:57:25,907 : INFO : loading projection weights from /home/raja/GoogleNews-vectors-negative300.bin.gz\n",
      "2017-11-13 02:59:12,043 : INFO : loaded (3000000, 300) matrix from /home/raja/GoogleNews-vectors-negative300.bin.gz\n"
     ]
    },
    {
     "name": "stdout",
     "output_type": "stream",
     "text": [
      "CPU times: user 1min 41s, sys: 4.55 s, total: 1min 46s\n",
      "Wall time: 1min 46s\n"
     ]
    }
   ],
   "source": [
    "%time word_vectors = KeyedVectors.load_word2vec_format('/home/raja/GoogleNews-vectors-negative300.bin.gz', binary=True)"
   ]
  },
  {
   "cell_type": "code",
   "execution_count": 30,
   "metadata": {},
   "outputs": [
    {
     "data": {
      "text/plain": [
       "[('loved', 0.6907792091369629),\n",
       " ('adore', 0.6816873550415039),\n",
       " ('loves', 0.661863386631012),\n",
       " ('passion', 0.6100709438323975),\n",
       " ('hate', 0.600395679473877),\n",
       " ('loving', 0.5886635780334473),\n",
       " ('Ilove', 0.5702950954437256),\n",
       " ('affection', 0.5664337873458862),\n",
       " ('undying_love', 0.5547305345535278),\n",
       " ('absolutely_adore', 0.5536840558052063)]"
      ]
     },
     "execution_count": 30,
     "metadata": {},
     "output_type": "execute_result"
    }
   ],
   "source": [
    "word_vectors.similar_by_word(\"love\")"
   ]
  },
  {
   "cell_type": "code",
   "execution_count": 36,
   "metadata": {},
   "outputs": [
    {
     "data": {
      "text/plain": [
       "[('stopped', 0.8977065086364746),\n",
       " ('halt', 0.8770360350608826),\n",
       " ('stopping', 0.8531746864318848),\n",
       " ('prevent', 0.8385913968086243),\n",
       " ('resist', 0.8310801982879639),\n",
       " ('hault', 0.8286861777305603),\n",
       " ('Stop', 0.8255314230918884),\n",
       " ('deter', 0.816689133644104),\n",
       " ('dissuade', 0.8148697018623352),\n",
       " ('keep', 0.810117781162262)]"
      ]
     },
     "execution_count": 36,
     "metadata": {},
     "output_type": "execute_result"
    }
   ],
   "source": [
    "word_vectors.most_similar_cosmul(positive=['walk', 'stop'], negative=['walks'])"
   ]
  },
  {
   "cell_type": "code",
   "execution_count": 20,
   "metadata": {},
   "outputs": [
    {
     "data": {
      "text/plain": [
       "[('classical_music', 0.719779372215271),\n",
       " ('jazz', 0.6834639310836792),\n",
       " ('Music', 0.6595721244812012),\n",
       " ('Without_Donny_Kirshner', 0.6416222453117371),\n",
       " ('songs', 0.6396344900131226),\n",
       " ('musicians', 0.6336299180984497),\n",
       " ('tunes', 0.6330114603042603),\n",
       " ('musical', 0.618602991104126),\n",
       " ('Logue_typed', 0.6150089502334595),\n",
       " ('musics', 0.6148059368133545)]"
      ]
     },
     "execution_count": 20,
     "metadata": {},
     "output_type": "execute_result"
    }
   ],
   "source": [
    "word_vectors.most_similar('music')"
   ]
  },
  {
   "cell_type": "code",
   "execution_count": 23,
   "metadata": {},
   "outputs": [
    {
     "data": {
      "text/plain": [
       "array([ 0.10302734, -0.15234375,  0.02587891,  0.16503906, -0.16503906,\n",
       "        0.06689453,  0.29296875, -0.26367188, -0.140625  ,  0.20117188,\n",
       "       -0.02624512, -0.08203125, -0.02770996, -0.04394531, -0.23535156,\n",
       "        0.16992188,  0.12890625,  0.15722656,  0.00756836, -0.06982422,\n",
       "       -0.03857422,  0.07958984,  0.22949219, -0.14355469,  0.16796875,\n",
       "       -0.03515625,  0.05517578,  0.10693359,  0.11181641, -0.16308594,\n",
       "       -0.11181641,  0.13964844,  0.01556396,  0.12792969,  0.15429688,\n",
       "        0.07714844,  0.26171875,  0.08642578, -0.02514648,  0.33398438,\n",
       "        0.18652344, -0.20996094,  0.07080078,  0.02600098, -0.10644531,\n",
       "       -0.10253906,  0.12304688,  0.04711914,  0.02209473,  0.05834961,\n",
       "       -0.10986328,  0.14941406, -0.10693359,  0.01556396,  0.08984375,\n",
       "        0.11230469, -0.04370117, -0.11376953, -0.0037384 , -0.01818848,\n",
       "        0.24316406,  0.08447266, -0.07080078,  0.18066406,  0.03515625,\n",
       "       -0.09667969, -0.21972656, -0.00328064, -0.03198242,  0.18457031,\n",
       "        0.28515625, -0.0859375 , -0.11181641,  0.0213623 , -0.30664062,\n",
       "       -0.09228516, -0.18945312,  0.01513672,  0.18554688,  0.34375   ,\n",
       "       -0.31054688,  0.22558594,  0.08740234, -0.2265625 , -0.29492188,\n",
       "        0.08251953, -0.38476562,  0.25390625,  0.26953125,  0.06298828,\n",
       "       -0.00958252,  0.23632812, -0.17871094, -0.12451172, -0.17285156,\n",
       "       -0.11767578,  0.19726562, -0.03466797, -0.10400391, -0.1640625 ,\n",
       "       -0.19726562,  0.19824219,  0.09521484,  0.00561523,  0.12597656,\n",
       "        0.00073624, -0.0402832 , -0.03063965,  0.01623535, -0.1640625 ,\n",
       "       -0.22167969,  0.171875  ,  0.12011719, -0.01965332,  0.4453125 ,\n",
       "        0.06494141,  0.05932617, -0.1640625 , -0.01367188,  0.18945312,\n",
       "        0.05566406, -0.05004883, -0.01422119,  0.15917969,  0.07421875,\n",
       "       -0.31640625, -0.0534668 , -0.02355957, -0.16992188,  0.0625    ,\n",
       "       -0.140625  , -0.13183594, -0.12792969,  0.12060547,  0.05883789,\n",
       "       -0.00055695,  0.05761719, -0.08447266,  0.16992188,  0.13671875,\n",
       "       -0.09375   ,  0.08056641, -0.04003906, -0.03759766, -0.26367188,\n",
       "        0.00662231, -0.01928711,  0.09423828, -0.13183594, -0.27929688,\n",
       "        0.27734375,  0.31835938,  0.10058594,  0.11425781, -0.27734375,\n",
       "        0.11035156, -0.06982422, -0.0859375 , -0.11132812, -0.27929688,\n",
       "       -0.07763672,  0.05102539, -0.06176758,  0.44921875,  0.01867676,\n",
       "       -0.15039062,  0.13671875, -0.15039062, -0.2265625 ,  0.11914062,\n",
       "        0.06005859, -0.0390625 , -0.10839844,  0.02905273,  0.02331543,\n",
       "        0.13183594,  0.01000977,  0.03149414, -0.12597656, -0.13671875,\n",
       "       -0.30664062, -0.28515625,  0.09863281, -0.00564575, -0.08398438,\n",
       "       -0.16015625, -0.14453125, -0.18261719,  0.10009766,  0.04345703,\n",
       "        0.10644531,  0.16503906,  0.06298828,  0.17578125,  0.15820312,\n",
       "        0.125     ,  0.171875  , -0.05664062, -0.09033203, -0.21289062,\n",
       "       -0.0390625 , -0.03320312, -0.18652344, -0.18945312, -0.01818848,\n",
       "       -0.03051758, -0.17675781,  0.15234375,  0.01953125,  0.01696777,\n",
       "       -0.10839844,  0.18066406,  0.00497437, -0.11621094, -0.19824219,\n",
       "       -0.19140625,  0.21386719,  0.08984375, -0.16308594, -0.00325012,\n",
       "       -0.07128906,  0.08251953,  0.02160645,  0.10107422, -0.29101562,\n",
       "       -0.04785156, -0.03369141, -0.14453125, -0.06396484, -0.12451172,\n",
       "       -0.24804688,  0.09277344,  0.01165771,  0.24707031,  0.3828125 ,\n",
       "        0.02429199, -0.12255859,  0.00259399, -0.015625  ,  0.00540161,\n",
       "        0.04736328, -0.00744629, -0.18261719,  0.21972656, -0.16601562,\n",
       "        0.359375  ,  0.05297852, -0.03808594, -0.10400391, -0.18457031,\n",
       "        0.07470703,  0.2734375 ,  0.28320312,  0.15234375,  0.05126953,\n",
       "       -0.15429688, -0.15722656, -0.21582031, -0.19824219,  0.09960938,\n",
       "       -0.09179688,  0.07519531, -0.02441406,  0.17382812, -0.11279297,\n",
       "        0.00219727,  0.07470703, -0.02307129,  0.08642578,  0.16601562,\n",
       "        0.07763672,  0.14746094,  0.15429688,  0.11425781,  0.14550781,\n",
       "       -0.24023438, -0.2109375 ,  0.07421875, -0.14746094, -0.08642578,\n",
       "        0.16113281, -0.07128906,  0.109375  ,  0.17675781,  0.18554688,\n",
       "       -0.15820312, -0.2265625 ,  0.15039062, -0.08544922,  0.09130859,\n",
       "       -0.03198242,  0.13476562, -0.15136719, -0.42773438, -0.03442383,\n",
       "       -0.27929688,  0.125     , -0.19824219, -0.12304688,  0.06494141], dtype=float32)"
      ]
     },
     "execution_count": 23,
     "metadata": {},
     "output_type": "execute_result"
    }
   ],
   "source": [
    "word_vectors.wv['love']"
   ]
  },
  {
   "cell_type": "code",
   "execution_count": null,
   "metadata": {},
   "outputs": [],
   "source": []
  }
 ],
 "metadata": {
  "kernelspec": {
   "display_name": "Python 3",
   "language": "python",
   "name": "python3"
  },
  "language_info": {
   "codemirror_mode": {
    "name": "ipython",
    "version": 3
   },
   "file_extension": ".py",
   "mimetype": "text/x-python",
   "name": "python",
   "nbconvert_exporter": "python",
   "pygments_lexer": "ipython3",
   "version": "3.5.4"
  }
 },
 "nbformat": 4,
 "nbformat_minor": 2
}
